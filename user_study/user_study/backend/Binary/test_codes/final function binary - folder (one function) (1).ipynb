{
 "cells": [
  {
   "cell_type": "code",
   "execution_count": 1,
   "id": "759dcba6-ba53-46d3-b64e-e43d8f0920cd",
   "metadata": {},
   "outputs": [],
   "source": [
    "import os\n",
    "os.environ[\"CUDA_VISIBLE_DEVICES\"] = \"-1\"\n",
    "\n",
    "\n",
    "import tensorflow as tf\n",
    "from tensorflow import keras\n",
    "import matplotlib.pyplot as plt\n",
    "from tensorflow.keras.models import Model\n",
    "from tensorflow.keras.preprocessing.sequence import pad_sequences\n",
    "from keras.utils import to_categorical\n",
    "import numpy as np\n",
    "from numpy import array\n",
    "import pandas as pd\n",
    "import cv2\n",
    "from glob import glob\n",
    "import PIL\n",
    "import time\n",
    "from tqdm import tqdm\n",
    "import os\n",
    "import seaborn as sns\n",
    "import shutil\n",
    "from tensorflow.keras.applications.mobilenet_v2 import preprocess_input\n",
    "from tensorflow.keras.utils import load_img, img_to_array\n",
    "import itertools\n",
    "from tensorflow.keras.models import load_model"
   ]
  },
  {
   "cell_type": "code",
   "execution_count": 2,
   "id": "290dd3b2-02a8-45e8-9536-e81564a7bde4",
   "metadata": {},
   "outputs": [
    {
     "name": "stdout",
     "output_type": "stream",
     "text": [
      "1/1 [==============================] - 1s 970ms/step\n",
      "1/1 [==============================] - 1s 1s/step\n",
      "1/1 [==============================] - 1s 927ms/step\n",
      "Predicted Label: Normal\n"
     ]
    },
    {
     "ename": "",
     "evalue": "",
     "output_type": "error",
     "traceback": [
      "\u001b[1;31mThe Kernel crashed while executing code in the current cell or a previous cell. \n",
      "\u001b[1;31mPlease review the code in the cell(s) to identify a possible cause of the failure. \n",
      "\u001b[1;31mClick <a href='https://aka.ms/vscodeJupyterKernelCrash'>here</a> for more info. \n",
      "\u001b[1;31mView Jupyter <a href='command:jupyter.viewOutput'>log</a> for further details."
     ]
    }
   ],
   "source": [
    "def patient_predict(patient_path, model_paths):\n",
    "    def preprocess_image(img_path):\n",
    "        img = load_img(img_path, color_mode='grayscale', target_size=(224, 224))\n",
    "        img_array = img_to_array(img)\n",
    "        pseudo_rgb_img = np.repeat(img_array, 3, axis=2)\n",
    "        return preprocess_input(pseudo_rgb_img)\n",
    "\n",
    "    def create_image_pairs(folder_path):\n",
    "        images = []\n",
    "        for filename in os.listdir(folder_path):\n",
    "            img_path = os.path.join(folder_path, filename)\n",
    "            if os.path.isfile(img_path) and img_path.lower().endswith(('.png', '.jpg', '.jpeg')):\n",
    "                processed_img = preprocess_image(img_path)\n",
    "                images.append(processed_img)\n",
    "        return list(itertools.combinations(images, 2)) if len(images) > 1 else [(images[0], images[0])]\n",
    "\n",
    "    # Load models\n",
    "    general_model = load_model(model_paths[0])\n",
    "    specialized_model = load_model(model_paths[1])\n",
    "    not_specialized_model = load_model(model_paths[2])\n",
    "\n",
    "    image_pairs = create_image_pairs(patient_path)\n",
    "    patient_results = []\n",
    "\n",
    "    # Fixed weights\n",
    "    weights = (0.4, 0.4, 0.2)\n",
    "\n",
    "    for img1, img2 in image_pairs:\n",
    "        img1 = np.expand_dims(img1, axis=0)\n",
    "        img2 = np.expand_dims(img2, axis=0)\n",
    "        combined_img = [img1, img2]\n",
    "\n",
    "        general_pred = general_model.predict(combined_img)\n",
    "        specialized_pred = specialized_model.predict(combined_img)\n",
    "        not_specialized_pred = not_specialized_model.predict(combined_img)\n",
    "\n",
    "        vote_sum = (general_pred * weights[0] +\n",
    "                    specialized_pred * weights[1] +\n",
    "                    not_specialized_pred * weights[2])\n",
    "        weighted_vote = vote_sum >= sum(weights) / 2\n",
    "        patient_results.append(int(weighted_vote))\n",
    "\n",
    "    return \"Abnormal\" if np.max(patient_results) else \"Normal\"\n",
    "\n",
    "# Usage\n",
    "model_path = []\n",
    "model_paths = ['mobilenet_combination_model_fold_all_data_3.h5', 'mobilenet_combination_model_fold_4bp_2.h5', 'mobilenet_combination_model_fold_all_exc_4_1.h5']\n",
    "patient_path = '../datasets/test_patient'\n",
    "predicted_label = patient_predict(patient_path, model_paths)\n",
    "print(\"Predicted Label:\", predicted_label)"
   ]
  },
  {
   "cell_type": "code",
   "execution_count": 20,
   "id": "9aca6e63-d95b-4de7-ae1e-3dcaf6b3a618",
   "metadata": {},
   "outputs": [],
   "source": [
    "import dill\n",
    "\n",
    "\n",
    "# Serialize the function to a file\n",
    "with open('patient_predict.pkl', 'wb') as f:\n",
    "    dill.dump(patient_predict, f)"
   ]
  },
  {
   "cell_type": "code",
   "execution_count": 21,
   "id": "0c30db28-11ec-4003-8120-f454530fe697",
   "metadata": {},
   "outputs": [
    {
     "name": "stdout",
     "output_type": "stream",
     "text": [
      "1/1 [==============================] - 0s 433ms/step\n",
      "1/1 [==============================] - 1s 610ms/step\n",
      "1/1 [==============================] - 0s 456ms/step\n",
      "Predicted Label: Abnormal\n"
     ]
    }
   ],
   "source": [
    "# Load the function from the file\n",
    "with open('patient_predict.pkl', 'rb') as f:\n",
    "    loaded_function = dill.load(f)\n",
    "\n",
    "# Now you can use 'loaded_function' just like the original 'full_patient_analysis'\n",
    "# Example usage:\n",
    "model_paths = ['mobilenet_combination_model_fold_all_data_3.h5', 'mobilenet_combination_model_fold_4bp_2.h5', 'mobilenet_combination_model_fold_all_exc_4_1.h5']\n",
    "patient_path = '../datasets/test_patient'\n",
    "predicted_label = loaded_function(patient_path, model_paths)\n",
    "print(\"Predicted Label:\", predicted_label)"
   ]
  }
 ],
 "metadata": {
  "kernelspec": {
   "display_name": "Python 3",
   "language": "python",
   "name": "python3"
  },
  "language_info": {
   "codemirror_mode": {
    "name": "ipython",
    "version": 3
   },
   "file_extension": ".py",
   "mimetype": "text/x-python",
   "name": "python",
   "nbconvert_exporter": "python",
   "pygments_lexer": "ipython3",
   "version": "3.11.9"
  }
 },
 "nbformat": 4,
 "nbformat_minor": 5
}
