{
 "cells": [
  {
   "cell_type": "code",
   "execution_count": 8,
   "metadata": {},
   "outputs": [],
   "source": [
    "import os\n",
    "import re\n",
    "\n",
    "from pathlib import Path"
   ]
  },
  {
   "cell_type": "code",
   "execution_count": 81,
   "metadata": {},
   "outputs": [],
   "source": [
    "def txt_file(filepath):\n",
    "    if filepath.endswith('TOTAL.txt'):\n",
    "        pass\n",
    "    else:\n",
    "        return filepath.lower().endswith('.txt')\n",
    "\n",
    "def separate_report(text):\n",
    "    report = {}\n",
    "    current_report = []\n",
    "    num = []\n",
    "    idx = 0\n",
    "    split_text = text.split('\\n')\n",
    "    if 'tgl' in split_text[0].split() or 'tanggal' in split_text[0].split():\n",
    "        split_text = split_text[2:]\n",
    "        text = os.linesep.join(split_text)\n",
    "    for sentence in split_text:\n",
    "        for word in sentence.split():\n",
    "            # get report number for dict key\n",
    "            if word.isdigit() and word == sentence.split()[0]:\n",
    "                num.append(word)\n",
    "            # if word is a digit (means new report) and it is not the first digit (report)\n",
    "            if word.isdigit() and word != text.split()[0] and word == sentence.split()[0]:\n",
    "                # combine all the words into one report and add it to dict\n",
    "                final_report = ' '.join(current_report)\n",
    "                final_report = '\\n'.join([f.lstrip(' ') for f in final_report.splitlines()])\n",
    "                # print(num, idx)\n",
    "                report[num[idx]] = final_report\n",
    "                idx += 1\n",
    "                # clear list and append new digit (report)\n",
    "                current_report = []\n",
    "                current_report.append(word)            \n",
    "            else:\n",
    "                current_report.append(word)\n",
    "        current_report.append('\\n')\n",
    "    if len(num) != 0:\n",
    "        final_report = ' '.join(current_report)\n",
    "        final_report = '\\n'.join([f.lstrip(' ') for f in final_report.splitlines()])\n",
    "        report[num[idx]] = final_report\n",
    "    # {report_num_1: text, report_num_2: text}\n",
    "    return report\n",
    "\n",
    "def makedir(path):\n",
    "    Path(path).mkdir(parents=True, exist_ok=True)\n",
    "    # change permission into read, write, execute\n",
    "    Path(path).chmod(0o777)\n",
    "\n",
    "def generate_separate_report(text, base_dir, file, body_part):\n",
    "    report = separate_report(text)\n",
    "    # ex path: base_dir/separated_report/body_part/file/filename\n",
    "    # ex filename: body_part-number\n",
    "    for key, val in report.items():\n",
    "        base_dir = os.path.join('..', 'separated_report')\n",
    "        filename = f'{body_part}-{key}_series_1001.txt'\n",
    "        new_filepath = os.path.join(base_dir, body_part, file[:-4])\n",
    "        makedir(os.path.join(new_filepath))\n",
    "        # create each report in the respective folders\n",
    "        with open(os.path.join(new_filepath, filename), 'w') as w:\n",
    "            w.write(val)"
   ]
  },
  {
   "cell_type": "code",
   "execution_count": 82,
   "metadata": {},
   "outputs": [
    {
     "name": "stdout",
     "output_type": "stream",
     "text": [
      "body part group: ['abodemen_3_posisi', 'ankle_bilateral', 'ankle_dextra', 'ankle_joint_bilateral', 'ankle_joint_dextra', 'ankle_sinistra', 'antebrachii', 'appendicogram', 'bahu_dextra', 'bahu_kanan_kiri', 'bahu_sinistra', 'bno', 'calvaria', 'clavicual_kanan', 'cruris', 'cubiti', 'femur_bilateral', 'femur_dextra', 'femur_sinistra', 'genu', 'hip_joint', 'humerus', 'humerus_biateral', 'humerus_dextra', 'humerus_sinistra', 'manus', 'mastoid_bilateral', 'os_sacro_coccygeus', 'pedis_dextra', 'pedis_sinistra', 'pelvis', 'schedel4', 'sinus_paranasal', 'thorax', 'vertebra_cervical', 'vertebra_lumbosakral', 'vertebra_thoracolumbal', 'wrist_joint_bilateral', 'wrist_joint_dextra', 'wrist_joint_sinistra'] \n",
      "\n"
     ]
    }
   ],
   "source": [
    "# directories\n",
    "base_dir = os.path.join('..','datasets','radiology_clean_final')\n",
    "aggregated_report = ['BNO-231027-report-1', 'clavicual_kanan-Series_1001_0000-gabung-report-1', 'pelvis-2310022-gabung-report-1', 'pelvis-2310024-report-1', 'pelvis-2310025-report-1', 'pelvis-2310300066-report-1', 'Thorax-231020_Brobkhopneumonia-report-1', 'Thorax-231020_Cardiomegaly-report-1', 'Thorax-231020_Pneumonia-Pneumonia-report-1', 'Thorax-231021_231022-Cardiomegaly-report-1', 'Thorax-231021_231022-diagnosa_gabung-report-3', 'Thorax-231021_231022-Pneumonia-report-2', 'Thorax-231021_231022_Cardiomegaly-Cardiomegaly-report-1', 'Thorax-231021_231022_Pneumonia-Pneumonia-report-1', 'Thorax-231023-Bronkhopneumonia-report-1', 'Thorax-231023-gabung-report-3', 'Thorax-231023-Pneumonia-report-2', 'Thorax-231024-pneumonia-report-2', 'Thorax-231024-report-3', 'Thorax-231025-gabung-report-1', 'Thorax-231025-pneumonia-report-3', 'Thorax-231025-pneumonia_cardiomegaly-report-2', 'Thorax-231026-gabung-report-2', 'Thorax-231026-pneumonia-report-3', 'Thorax-231027-pneumonia-report-3', 'Thorax-231028-pneumonia-report-3', 'Thorax-231028-report-4', 'Thorax-231029-gabung-report-1', 'Thorax-231030-report-1', 'Thorax-231101-report-1', 'Thorax-231103-report-1', 'Thorax-231105-report-1', 'Thorax-231106-report-1', 'Thorax-231107-report-1', 'Thorax-231108-report-1', 'Thorax-231109-report-1', 'Thorax-231110-report-1', 'Thorax-231111-report-1', 'Thorax-231112-report-1', 'Thorax-231113-report-1', 'Thorax-231114-report-1', 'Thorax-231115-report-1', 'Thorax-231116-report-1', 'Thorax-231118-report-1', 'Thorax-231119-report-1', 'Thorax-231120-report-1', 'Thorax-231121-report-1', 'Thorax-231122-report-1', 'Thorax-231123-report-1', 'Thorax-231124-report-1', 'Thorax-231125-report-1', 'Thorax-231126-report-1', 'Thorax-231127-report-1', 'Thorax-231128-report-1', 'Thorax-231129-report-1', 'Thorax-231130-report-1', 'Thorax-231201-report-1', 'Thorax-231202-report-1', 'Thorax-231203-report-1', 'Thorax-231204-report-1', 'Thorax-231205-report-1', 'Thorax-231206-report-1', 'Thorax-231207-report-1', 'Thorax-231208-report-1', 'Thorax-231209-report-1', 'Thorax-231210-report-1', 'Thorax-231211-report-1', 'Thorax-231212-report-1', 'Thorax-231213-report-1', 'Thorax-231214-report-1', 'Thorax-231215-report-1', 'Thorax-231216-report-1', 'Thorax-231217-report-1', 'Thorax-231218-report-1', 'Thorax-231222-report-1', 'Thorax-240101-cardiomegaly-report-2', 'Thorax-240101-report-4', 'Thorax-240102-report-1', 'Thorax-240103-report-1', 'Thorax-240104-report-1', 'Thorax-240105-report-1', 'Thorax-240106-report-1', 'Thorax-240107-report-1', 'Thorax-240108-report-1', 'Thorax-240109-report-1', 'Thorax-240110-report-1', 'Thorax-240111-report-1', 'Thorax-240112-report-1', 'Thorax-240113-report-1', 'Thorax-240114-report-1', 'Thorax-240115-report-1', 'Thorax-240117-report-1', 'Thorax-240119-report-1', 'Thorax-240120-report-1', 'Thorax-240121-report-1', 'Thorax-240122-report-1', 'Thorax-240124-report-1', 'Thorax-240126-report-1', 'Thorax-240127-report-1', 'Thorax-240128-report-1']\n",
    "\n",
    "# body part grouping\n",
    "body_part_group = [f.lower() for f in os.listdir(base_dir) if os.path.isdir(os.path.join(base_dir, f))]\n",
    "print(\"body part group:\", body_part_group, \"\\n\")\n",
    "\n",
    "for root, dirs, files in os.walk(base_dir):\n",
    "    for file in files:\n",
    "        # get full filename\n",
    "        filename = os.path.join(root, file)\n",
    "        # get body part\n",
    "        body_part = Path(filename).parent.parent.name\n",
    "        if file[:-4] in aggregated_report:\n",
    "            # if txt file -> report\n",
    "            if txt_file(filename):\n",
    "                f = open(filename, \"r\", encoding=\"unicode_escape\")\n",
    "                text = f.read()\n",
    "                generate_separate_report(text, base_dir, file, body_part)\n",
    "                "
   ]
  }
 ],
 "metadata": {
  "kernelspec": {
   "display_name": "venv",
   "language": "python",
   "name": "python3"
  },
  "language_info": {
   "codemirror_mode": {
    "name": "ipython",
    "version": 3
   },
   "file_extension": ".py",
   "mimetype": "text/x-python",
   "name": "python",
   "nbconvert_exporter": "python",
   "pygments_lexer": "ipython3",
   "version": "3.10.4"
  }
 },
 "nbformat": 4,
 "nbformat_minor": 2
}
