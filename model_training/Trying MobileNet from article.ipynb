{
 "cells": [
  {
   "cell_type": "code",
   "execution_count": 1,
   "id": "c2b7286e-6b05-4e4e-92b2-4632fa3306aa",
   "metadata": {},
   "outputs": [
    {
     "name": "stderr",
     "output_type": "stream",
     "text": [
      "2024-06-19 14:42:21.851318: I tensorflow/core/util/port.cc:113] oneDNN custom operations are on. You may see slightly different numerical results due to floating-point round-off errors from different computation orders. To turn them off, set the environment variable `TF_ENABLE_ONEDNN_OPTS=0`.\n",
      "2024-06-19 14:42:21.877456: I tensorflow/core/platform/cpu_feature_guard.cc:210] This TensorFlow binary is optimized to use available CPU instructions in performance-critical operations.\n",
      "To enable the following instructions: AVX2 AVX_VNNI FMA, in other operations, rebuild TensorFlow with the appropriate compiler flags.\n",
      "2024-06-19 14:42:22.231806: W tensorflow/compiler/tf2tensorrt/utils/py_utils.cc:38] TF-TRT Warning: Could not find TensorRT\n"
     ]
    },
    {
     "name": "stdout",
     "output_type": "stream",
     "text": [
      "[]\n"
     ]
    },
    {
     "name": "stderr",
     "output_type": "stream",
     "text": [
      "2024-06-19 14:42:22.790942: W tensorflow/core/common_runtime/gpu/gpu_device.cc:2251] Cannot dlopen some GPU libraries. Please make sure the missing libraries mentioned above are installed properly if you would like to use GPU. Follow the guide at https://www.tensorflow.org/install/gpu for how to download and setup the required libraries for your platform.\n",
      "Skipping registering GPU devices...\n"
     ]
    },
    {
     "name": "stdout",
     "output_type": "stream",
     "text": [
      "/home/radiology/miniconda3/envs/torch-env\n",
      "\n"
     ]
    }
   ],
   "source": [
    "# import os\n",
    "# os.environ[\"CUDA_VISIBLE_DEVICES\"] = \"-1\"\n",
    "import os\n",
    "os.environ[\"CUDA_VISIBLE_DEVICES\"] = \"0\"\n",
    "!export OMP_NUM_THREADS=1\n",
    "import tensorflow as tf\n",
    "print(tf.config.list_physical_devices('GPU'))\n",
    "\n",
    "!export TF_ENABLE_ONEDNN_OPTS=0\n",
    "!export XLA_FLAGS=\"--xla_gpu_cuda_data_dir=$CONDA_PREFIX/lib\"\n",
    "!echo $CONDA_PREFIX\n",
    "!echo $LD_LIBRARY_PATH\n"
   ]
  },
  {
   "cell_type": "code",
   "execution_count": 2,
   "id": "7f23fe51-9821-4492-b949-69107f00c3ec",
   "metadata": {},
   "outputs": [
    {
     "name": "stdout",
     "output_type": "stream",
     "text": [
      "<class 'pandas.core.frame.DataFrame'>\n",
      "RangeIndex: 3012 entries, 0 to 3011\n",
      "Data columns (total 3 columns):\n",
      " #   Column      Non-Null Count  Dtype \n",
      "---  ------      --------------  ----- \n",
      " 0   id          3012 non-null   int64 \n",
      " 1   image_path  3012 non-null   object\n",
      " 2   body_part   3012 non-null   object\n",
      "dtypes: int64(1), object(2)\n",
      "memory usage: 70.7+ KB\n"
     ]
    }
   ],
   "source": [
    "import pandas as pd\n",
    "\n",
    "images = pd.read_csv('../datasets/images_dataset_clean4.csv')\n",
    "reports = pd.read_csv('../datasets/report_dataset_clean4.csv')\n",
    "# print(reports['body_part'])\n",
    "data = reports[['id', 'body_part']]\n",
    "# data.info()\n",
    "\n",
    "df = pd.merge(images[['id','image_path']], data, on='id')\n",
    "df.info()"
   ]
  },
  {
   "cell_type": "code",
   "execution_count": 3,
   "id": "7d4a1d35-a1a9-434e-9f65-ae6ad29f2956",
   "metadata": {},
   "outputs": [
    {
     "data": {
      "text/html": [
       "<div>\n",
       "<style scoped>\n",
       "    .dataframe tbody tr th:only-of-type {\n",
       "        vertical-align: middle;\n",
       "    }\n",
       "\n",
       "    .dataframe tbody tr th {\n",
       "        vertical-align: top;\n",
       "    }\n",
       "\n",
       "    .dataframe thead th {\n",
       "        text-align: right;\n",
       "    }\n",
       "</style>\n",
       "<table border=\"1\" class=\"dataframe\">\n",
       "  <thead>\n",
       "    <tr style=\"text-align: right;\">\n",
       "      <th></th>\n",
       "      <th>image_path</th>\n",
       "      <th>body_part</th>\n",
       "    </tr>\n",
       "  </thead>\n",
       "  <tbody>\n",
       "    <tr>\n",
       "      <th>0</th>\n",
       "      <td>../datasets/radiology_clean/abodemen_3_posisi/...</td>\n",
       "      <td>abdomen</td>\n",
       "    </tr>\n",
       "    <tr>\n",
       "      <th>1</th>\n",
       "      <td>../datasets/radiology_clean/abodemen_3_posisi/...</td>\n",
       "      <td>abdomen</td>\n",
       "    </tr>\n",
       "    <tr>\n",
       "      <th>2</th>\n",
       "      <td>../datasets/radiology_clean/abodemen_3_posisi/...</td>\n",
       "      <td>abdomen</td>\n",
       "    </tr>\n",
       "    <tr>\n",
       "      <th>3</th>\n",
       "      <td>../datasets/radiology_clean/abodemen_3_posisi/...</td>\n",
       "      <td>abdomen</td>\n",
       "    </tr>\n",
       "    <tr>\n",
       "      <th>4</th>\n",
       "      <td>../datasets/radiology_clean/abodemen_3_posisi/...</td>\n",
       "      <td>abdomen</td>\n",
       "    </tr>\n",
       "  </tbody>\n",
       "</table>\n",
       "</div>"
      ],
      "text/plain": [
       "                                          image_path body_part\n",
       "0  ../datasets/radiology_clean/abodemen_3_posisi/...   abdomen\n",
       "1  ../datasets/radiology_clean/abodemen_3_posisi/...   abdomen\n",
       "2  ../datasets/radiology_clean/abodemen_3_posisi/...   abdomen\n",
       "3  ../datasets/radiology_clean/abodemen_3_posisi/...   abdomen\n",
       "4  ../datasets/radiology_clean/abodemen_3_posisi/...   abdomen"
      ]
     },
     "execution_count": 3,
     "metadata": {},
     "output_type": "execute_result"
    }
   ],
   "source": [
    "df = df.drop(columns=['id'])\n",
    "df.head(5)"
   ]
  },
  {
   "cell_type": "code",
   "execution_count": 4,
   "id": "90dd7ab2-c45e-4b9b-bc9a-294b181290c9",
   "metadata": {},
   "outputs": [],
   "source": [
    "import torch\n",
    "import torch.nn as nn\n",
    "# from torchinfo import summary\n",
    "\n",
    "class InvertedResidualBlock(nn.Module):\n",
    "    def __init__(self, in_channels, out_channels, expansion, stride):\n",
    "        super(InvertedResidualBlock, self).__init__()\n",
    "\n",
    "        self.stride = stride\n",
    "        self.expansion_layer = nn.Sequential(\n",
    "            nn.Conv2d(in_channels, in_channels * expansion, kernel_size=1, stride=1, padding=0, bias=False),\n",
    "            nn.BatchNorm2d(in_channels * expansion),\n",
    "            nn.ReLU6(inplace=True)\n",
    "        )\n",
    "\n",
    "        self.depthwise_layer = nn.Sequential(\n",
    "            nn.Conv2d(in_channels * expansion, in_channels * expansion, kernel_size=3, stride=stride, padding=1, groups=in_channels * expansion, bias=False),\n",
    "            nn.BatchNorm2d(in_channels * expansion),\n",
    "            nn.ReLU6(inplace=True)\n",
    "        )\n",
    "\n",
    "        self.pointwise_layer = nn.Sequential(\n",
    "            nn.Conv2d(in_channels * expansion, out_channels, kernel_size=1, stride=1, padding=0, bias=False),\n",
    "            nn.BatchNorm2d(out_channels)\n",
    "        )\n",
    "\n",
    "    def forward(self, x):\n",
    "        out = self.expansion_layer(x)\n",
    "        out = self.depthwise_layer(out)\n",
    "        out = self.pointwise_layer(out)\n",
    "\n",
    "        # if self.stride == 1:\n",
    "        #     out = out + x\n",
    "\n",
    "        return out\n",
    "\n",
    "class InvertedResidualBlockTranspose(nn.Module):\n",
    "    def __init__(self, in_channels, out_channels, t=6, stride=1):\n",
    "        super(InvertedResidualBlockTranspose, self).__init__()\n",
    "\n",
    "        self.stride = stride\n",
    "\n",
    "        self.expansion_layer = nn.Sequential(\n",
    "            nn.Conv2d(in_channels, in_channels * t, kernel_size=1, stride=1, padding=0, bias=False),\n",
    "            nn.BatchNorm2d(in_channels * t),\n",
    "            nn.ReLU6(inplace=True)\n",
    "        )\n",
    "\n",
    "        self.depthwise_layer_transpose = nn.Sequential(\n",
    "            nn.ConvTranspose2d(in_channels * t, in_channels * t, kernel_size=3, stride=stride, padding=1,\n",
    "                               output_padding=(0 if stride == 1 else 1), groups=in_channels * t, bias=False),\n",
    "            nn.BatchNorm2d(in_channels * t),\n",
    "            nn.ReLU6(inplace=True)\n",
    "        )\n",
    "\n",
    "        self.pointwise_layer_transpose = nn.Sequential(\n",
    "            nn.ConvTranspose2d(in_channels * t, out_channels, kernel_size=1, stride=1, padding=0, bias=False),\n",
    "            nn.BatchNorm2d(out_channels)\n",
    "        )\n",
    "\n",
    "    def forward(self, x):\n",
    "        out = self.expansion_layer(x)\n",
    "        out = self.depthwise_layer_transpose(out)\n",
    "        out = self.pointwise_layer_transpose(out)\n",
    "\n",
    "        return out\n",
    "\n",
    "\n",
    "class MobileNetV2CAE(nn.Module):\n",
    "    def __init__(self, in_channels=3, num_classes=10):\n",
    "        super(MobileNetV2CAE, self).__init__()\n",
    "\n",
    "        self.encoder = nn.Sequential(\n",
    "            nn.Conv2d(in_channels, 224, kernel_size=3, stride=2, padding=1, bias=False),\n",
    "            nn.BatchNorm2d(224),\n",
    "            nn.ReLU6(inplace=True),\n",
    "            InvertedResidualBlock(224, 16, 1, 1),\n",
    "            InvertedResidualBlock(16, 24, 6, 2),\n",
    "            InvertedResidualBlock(24, 24, 6, 1),\n",
    "            InvertedResidualBlock(24, 32, 6, 2),\n",
    "            InvertedResidualBlock(32, 32, 6, 1),\n",
    "            InvertedResidualBlock(32, 32, 6, 1),\n",
    "            InvertedResidualBlock(32, 64, 6, 2),\n",
    "            InvertedResidualBlock(64, 64, 6, 1),\n",
    "            InvertedResidualBlock(64, 64, 6, 1),\n",
    "            InvertedResidualBlock(64, 64, 6, 1),\n",
    "            InvertedResidualBlock(64, 96, 6, 1),\n",
    "            InvertedResidualBlock(96, 96, 6, 1),\n",
    "            InvertedResidualBlock(96, 96, 6, 1),\n",
    "            InvertedResidualBlock(96, 160, 6, 2),\n",
    "            InvertedResidualBlock(160, 160, 6, 1),\n",
    "            InvertedResidualBlock(160, 160, 6, 1),\n",
    "            InvertedResidualBlock(160, 320, 6, 1)\n",
    "        )\n",
    "\n",
    "        self.decoder = nn.Sequential(\n",
    "            InvertedResidualBlockTranspose(320, 160, 6, 1),\n",
    "            InvertedResidualBlockTranspose(160, 160, 6, 1),\n",
    "            InvertedResidualBlockTranspose(160, 160, 6, 2),\n",
    "            InvertedResidualBlockTranspose(160, 96, 6, 1),\n",
    "            InvertedResidualBlockTranspose(96, 96, 6, 1),\n",
    "            InvertedResidualBlockTranspose(96, 96, 6, 1),\n",
    "            InvertedResidualBlockTranspose(96, 64, 6, 1),\n",
    "            InvertedResidualBlockTranspose(64, 64, 6, 1),\n",
    "            InvertedResidualBlockTranspose(64, 64, 6, 1),\n",
    "            InvertedResidualBlockTranspose(64, 64, 6, 1),\n",
    "            InvertedResidualBlockTranspose(64, 32, 6, 2),\n",
    "            InvertedResidualBlockTranspose(32, 32, 6, 1),\n",
    "            InvertedResidualBlockTranspose(32, 32, 6, 1),\n",
    "            InvertedResidualBlockTranspose(32, 24, 6, 2),\n",
    "            InvertedResidualBlockTranspose(24, 24, 6, 1),\n",
    "            InvertedResidualBlockTranspose(24, 16, 6, 2), # Change stride from 1 to 2\n",
    "            nn.ConvTranspose2d(16, in_channels, kernel_size=3, stride=2, padding=1, output_padding=1, bias=False),\n",
    "            nn.Tanh()\n",
    "        )\n",
    "\n",
    "    def forward(self, x):\n",
    "        x = self.encoder(x)\n",
    "        x = self.decoder(x)\n",
    "        return x\n",
    "\n",
    "    def forward(self, x):\n",
    "        x = self.encoder(x)\n",
    "        x = self.decoder(x)\n",
    "        return x\n",
    "\n",
    "\n",
    "model = MobileNetV2CAE(in_channels=3)\n",
    "\n",
    "# Instantiate the model\n",
    "# device = torch.device('cuda' if torch.cuda.is_available() else 'cpu')\n",
    "#device = \"cpu\"\n",
    "#model = model.to(device)\n",
    "\n",
    "\n",
    "# print(summary(model, input_size=(3, 224, 224), device=device.type))"
   ]
  },
  {
   "cell_type": "code",
   "execution_count": 5,
   "id": "07d08e9b-0c4e-4053-ba4d-67d1d24fd441",
   "metadata": {},
   "outputs": [],
   "source": [
    "# from sklearn.model_selection import train_test_split\n",
    "\n",
    "# X = df['image_path']\n",
    "# y = df['body_part']\n",
    "\n",
    "# X_train, X_test, y_train, y_test = train_test_split(X, y, test_size=0.1, random_state=123)"
   ]
  },
  {
   "cell_type": "code",
   "execution_count": 6,
   "id": "4b60ef5f-c527-41cd-a0d4-034887611e58",
   "metadata": {},
   "outputs": [],
   "source": [
    "import os\n",
    "import pandas as pd\n",
    "from torchvision.io import read_image\n",
    "from torch.utils.data import Dataset\n",
    "import torchvision.transforms as transforms\n",
    "\n",
    "class CustomImageDataset(Dataset):\n",
    "    def __init__(self, annotations_file, img_dir, transform=None, target_transform=None):\n",
    "        self.img_labels = annotations_file\n",
    "        self.img_dir = img_dir\n",
    "        self.transform = transform\n",
    "        self.target_transform = target_transform\n",
    "\n",
    "    def __len__(self):\n",
    "        return len(self.img_labels)\n",
    "\n",
    "    def __getitem__(self, idx):\n",
    "        img_path = os.path.join(self.img_dir, self.img_labels.iloc[idx, 0])\n",
    "        image = read_image(img_path)\n",
    "        label = self.img_labels.iloc[idx, 1]\n",
    "        if self.transform:\n",
    "            image = self.transform(image)\n",
    "        if self.target_transform:\n",
    "            label = self.target_transform(label)\n",
    "        return image, label\n",
    "        \n",
    "transform = transforms.Compose([\n",
    "    transforms.Resize((224, 224))\n",
    "    # transforms.ToTensor(),\n",
    "    # transforms.\n",
    "    # transforms.Normalize(mean=(0.5, 0.5, 0.5), std=(0.5, 0.5, 0.5))\n",
    "])\n",
    "\n",
    "X = CustomImageDataset(df, \"\", transform = transform)"
   ]
  },
  {
   "cell_type": "code",
   "execution_count": 7,
   "id": "f8fa100f-8b20-43c7-9efb-8e06e8091449",
   "metadata": {},
   "outputs": [],
   "source": [
    "from torch.utils.data import random_split\n",
    "\n",
    "train_size = int(0.8 * len(X))\n",
    "test_size = len(X) - train_size\n",
    "train_dataset, test_dataset = torch.utils.data.random_split(X, [train_size, test_size])"
   ]
  },
  {
   "cell_type": "code",
   "execution_count": 8,
   "id": "2871feba-4abd-4b21-9f30-3920bf488eb0",
   "metadata": {},
   "outputs": [
    {
     "name": "stdout",
     "output_type": "stream",
     "text": [
      "2409\n",
      "603\n"
     ]
    }
   ],
   "source": [
    "print(len(train_dataset))\n",
    "print(len(test_dataset))"
   ]
  },
  {
   "cell_type": "code",
   "execution_count": 9,
   "id": "ffa89ba2-6cab-48f0-a520-dfa5dec25be5",
   "metadata": {},
   "outputs": [],
   "source": [
    "import torch\n",
    "import torchvision\n",
    "import torchvision.transforms as transforms\n",
    "from torch.utils.data import DataLoader\n",
    "# from torchvision.datasets import CIFAR10\n",
    "from sklearn.manifold import TSNE\n",
    "import numpy as np\n",
    "import matplotlib.pyplot as plt\n",
    "\n",
    "\n",
    "# Data preprocessing\n",
    "transform = transforms.Compose([\n",
    "    transforms.Resize((224, 224)),\n",
    "    transforms.ToTensor(),\n",
    "    transforms.Normalize(mean=(0.5, 0.5, 0.5), std=(0.5, 0.5, 0.5))\n",
    "])\n",
    "\n",
    "# get dataset\n",
    "# train_dataset = CIFAR10(root='./data', train=True, transform=transform, download=True)\n",
    "# test_dataset = CIFAR10(root='./data', train=False, transform=transform, download=True)\n",
    "\n",
    "# train_dataset = CIFAR10(root='./data', train=True, transform=transform, download=True)\n",
    "# test_dataset = CIFAR10(root='./data', train=False, transform=transform, download=True)\n",
    "\n",
    "### ZY: reduced batch_size from 100 to 32 #############################\n",
    "train_loader = DataLoader(train_dataset, batch_size=32, shuffle=True)\n",
    "test_loader = DataLoader(test_dataset, batch_size=32, shuffle=False)\n",
    "#######################################################################"
   ]
  },
  {
   "cell_type": "code",
   "execution_count": 10,
   "id": "c6dc83be-76ef-4f0c-8dba-6fa65a725528",
   "metadata": {},
   "outputs": [],
   "source": [
    "# print(train_loader)"
   ]
  },
  {
   "cell_type": "code",
   "execution_count": 11,
   "id": "2bc35781-b16d-4e50-a2cc-81e433c6eedc",
   "metadata": {},
   "outputs": [],
   "source": [
    "# Hyperparameters\n",
    "num_epochs = 5\n",
    "learning_rate = 0.001\n",
    "\n",
    "# Instantiate the model\n",
    "device = torch.device('cuda' if torch.cuda.is_available() else 'cpu')\n",
    "model = MobileNetV2CAE(in_channels=3).to(device)\n",
    "\n",
    "# Loss and optimizer\n",
    "criterion = nn.MSELoss()\n",
    "optimizer = torch.optim.Adam(model.parameters(), lr=learning_rate)"
   ]
  },
  {
   "cell_type": "code",
   "execution_count": 12,
   "id": "5f128a87-9543-4380-93ba-a735943db212",
   "metadata": {},
   "outputs": [
    {
     "name": "stdout",
     "output_type": "stream",
     "text": [
      "===> Epoch:  0\n",
      "===> Epoch:  1\n",
      "===> Epoch:  2\n",
      "===> Epoch:  3\n",
      "===> Epoch:  4\n"
     ]
    }
   ],
   "source": [
    "# Training the model\n",
    "model.train()\n",
    "model.to(device)\n",
    "# print(model.weights.dtype)\n",
    "for epoch in range(num_epochs):\n",
    "    print(\"===> Epoch: \", epoch)\n",
    "    for i, (images, _) in enumerate(train_loader):\n",
    "        \n",
    "        ### ZY: convert images from uint8 to float ###\n",
    "        images = images.float()\n",
    "        ##############################################\n",
    "        \n",
    "        images = images.to(device)\n",
    "        outputs = model(images)\n",
    "        # print(outputs.dtype)\n",
    "        # print(images.dtype)\n",
    "        loss = criterion(outputs, images)\n",
    "\n",
    "        # Backward and optimize\n",
    "        optimizer.zero_grad()\n",
    "        loss.backward()\n",
    "        optimizer.step()\n",
    "\n",
    "        if (i + 1) % 100 == 0:\n",
    "            print(f'Epoch [{epoch + 1}/{num_epochs}], Step [{i + 1}/{len(train_loader)}], Loss: {loss.item():.4f}')"
   ]
  },
  {
   "cell_type": "code",
   "execution_count": 13,
   "id": "ad029504-cafb-45fa-8963-868e5b34216e",
   "metadata": {},
   "outputs": [
    {
     "name": "stderr",
     "output_type": "stream",
     "text": [
      "/tmp/ipykernel_3755704/2174336921.py:27: FutureWarning: elementwise comparison failed; returning scalar instead, but in the future will perform elementwise comparison\n",
      "  indices = labels == i\n"
     ]
    },
    {
     "data": {
      "image/png": "[encoded data removed]",
      "text/plain": [
       "<Figure size 1000x1000 with 1 Axes>"
      ]
     },
     "metadata": {},
     "output_type": "display_data"
    }
   ],
   "source": [
    "model.eval()\n",
    "\n",
    "latent_space = []\n",
    "labels = []\n",
    "\n",
    "with torch.no_grad():\n",
    "    for i, (images, lbls) in enumerate(test_loader):\n",
    "        \n",
    "        ### ZY: convert images from uint8 to float ###\n",
    "        images = images.float()\n",
    "        ##############################################\n",
    "        \n",
    "        images = images.to(device)\n",
    "        encoded = model.encoder(images).view(images.size(0), -1).cpu().numpy()\n",
    "        latent_space.append(encoded)\n",
    "        labels.extend(lbls)\n",
    "\n",
    "latent_space = np.vstack(latent_space)\n",
    "labels = np.array(labels)\n",
    "\n",
    "tsne = TSNE(n_components=2, random_state=42)\n",
    "latent_2D = tsne.fit_transform(latent_space)\n",
    "\n",
    "# Visualize the latent space using t-SNE\n",
    "plt.figure(figsize=(10, 10))\n",
    "for i in range(10):\n",
    "    indices = labels == i\n",
    "    plt.scatter(latent_2D[indices, 0], latent_2D[indices, 1], label=f'{i}', alpha=0.6)\n",
    "\n",
    "plt.legend()\n",
    "plt.xlabel('Component 1')\n",
    "plt.ylabel('Component 2')\n",
    "plt.title('t-SNE Visualization of Latent Space')\n",
    "plt.show()\n"
   ]
  },
  {
   "cell_type": "code",
   "execution_count": null,
   "id": "7e2d9773-b5d3-4fc4-ba2e-f03159947506",
   "metadata": {},
   "outputs": [],
   "source": []
  }
 ],
 "metadata": {
  "kernelspec": {
   "display_name": "Python (torch-env)",
   "language": "python",
   "name": "torch-env"
  },
  "language_info": {
   "codemirror_mode": {
    "name": "ipython",
    "version": 3
   },
   "file_extension": ".py",
   "mimetype": "text/x-python",
   "name": "python",
   "nbconvert_exporter": "python",
   "pygments_lexer": "ipython3",
   "version": "3.10.12"
  }
 },
 "nbformat": 4,
 "nbformat_minor": 5
}
